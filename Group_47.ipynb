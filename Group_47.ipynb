{
  "nbformat": 4,
  "nbformat_minor": 0,
  "metadata": {
    "colab": {
      "provenance": [],
      "include_colab_link": true
    },
    "kernelspec": {
      "name": "python3",
      "display_name": "Python 3"
    },
    "language_info": {
      "name": "python"
    },
    "gpuClass": "standard"
  },
  "cells": [
    {
      "cell_type": "markdown",
      "metadata": {
        "id": "view-in-github",
        "colab_type": "text"
      },
      "source": [
        "<a href=\"https://colab.research.google.com/github/cagvanderaa/Blog-group-47/blob/main/Group_47.ipynb\" target=\"_parent\"><img src=\"https://colab.research.google.com/assets/colab-badge.svg\" alt=\"Open In Colab\"/></a>"
      ]
    },
    {
      "cell_type": "code",
      "execution_count": null,
      "metadata": {
        "id": "cwvtxUdzrEP4"
      },
      "outputs": [],
      "source": [
        "# This google colab was created by Deep Learning group 47 (CS4240) #"
      ]
    },
    {
      "cell_type": "code",
      "source": [
        "# import all necessary modules/libraries for pytorch\n",
        "import torch\n",
        "import torch.nn as nn\n",
        "import torch.nn.functional as F"
      ],
      "metadata": {
        "id": "5YcjxWKlrPUX"
      },
      "execution_count": null,
      "outputs": []
    },
    {
      "cell_type": "code",
      "source": [
        "# import modules/libraries to access data base files\n",
        "import sqlite3 as sq3\n",
        "import pandas.io.sql as pds\n",
        "import pandas as pd\n",
        "from google.colab import drive\n",
        "import numpy as np\n",
        "\n",
        "drive.mount('/content/drive')"
      ],
      "metadata": {
        "colab": {
          "base_uri": "https://localhost:8080/"
        },
        "id": "rvHpd7MZr-nb",
        "outputId": "b7c5e765-8f3e-41f6-ce9d-90d8930913b6"
      },
      "execution_count": null,
      "outputs": [
        {
          "output_type": "stream",
          "name": "stdout",
          "text": [
            "Mounted at /content/drive\n"
          ]
        }
      ]
    },
    {
      "cell_type": "code",
      "source": [
        "# create variable 'path_to_news' and 'path_to_tcga' and connect\n",
        "# path_to_news = '/content/drive/MyDrive/news.db'\n",
        "path_to_tcga = '/content/drive/MyDrive/tcga.db'\n",
        "\n",
        "# connect_news = sq3.connect(path_to_news)\n",
        "connect_tcga = sq3.connect(path_to_tcga)"
      ],
      "metadata": {
        "id": "8tRoMXD723HD"
      },
      "execution_count": null,
      "outputs": []
    },
    {
      "cell_type": "code",
      "source": [
        "# # check if the news data is available by printing the contents\n",
        "# df_news = pd.read_sql_query(\"SELECT * from sqlite_master\", connect_news)\n",
        "# print(df_news)"
      ],
      "metadata": {
        "id": "iTbHppoC7tav"
      },
      "execution_count": null,
      "outputs": []
    },
    {
      "cell_type": "code",
      "source": [
        "# # this cell prints the first 5 table called 'news'\n",
        "# news_table = pd.read_sql_query(\"SELECT * from news\", connect_news)\n",
        "# print(news_table.head())"
      ],
      "metadata": {
        "id": "IIrE79HeHqBL"
      },
      "execution_count": null,
      "outputs": []
    },
    {
      "cell_type": "code",
      "source": [
        "# check if the tcga data is available by printing the contents\n",
        "df_tcga = pd.read_sql_query(\"SELECT * from sqlite_master\", connect_tcga)\n",
        "print(df_tcga)"
      ],
      "metadata": {
        "colab": {
          "base_uri": "https://localhost:8080/"
        },
        "id": "NsGzt4sIDHDB",
        "outputId": "94e281be-2762-4c70-888f-42b3400fe35d"
      },
      "execution_count": null,
      "outputs": [
        {
          "output_type": "stream",
          "name": "stdout",
          "text": [
            "    type                            name     tbl_name  rootpage  \\\n",
            "0  table                        clinical     clinical         2   \n",
            "1  index     sqlite_autoindex_clinical_1     clinical         3   \n",
            "2  table                          rnaseq       rnaseq         4   \n",
            "3  index       sqlite_autoindex_rnaseq_1       rnaseq         5   \n",
            "4  table                     methylation  methylation         6   \n",
            "5  index  sqlite_autoindex_methylation_1  methylation         7   \n",
            "6  table                             snp          snp         8   \n",
            "7  index          sqlite_autoindex_snp_1          snp         9   \n",
            "8  index                    rnaseq_index       rnaseq   1685603   \n",
            "\n",
            "                                                 sql  \n",
            "0  CREATE TABLE clinical(id TEXT NOT NULL PRIMARY...  \n",
            "1                                               None  \n",
            "2  CREATE TABLE rnaseq(id TEXT NOT NULL PRIMARY K...  \n",
            "3                                               None  \n",
            "4  CREATE TABLE methylation(id TEXT NOT NULL PRIM...  \n",
            "5                                               None  \n",
            "6  CREATE TABLE snp(id TEXT NOT NULL PRIMARY KEY,...  \n",
            "7                                               None  \n",
            "8   CREATE INDEX rnaseq_index ON rnaseq(clinical_id)  \n"
          ]
        }
      ]
    },
    {
      "cell_type": "code",
      "source": [
        "# this cell prints the first 5 rows of the table for 'clinical' from tcga\n",
        "clinical_table = pd.read_sql_query(\"SELECT * from clinical\", connect_tcga)\n",
        "print(clinical_table)"
      ],
      "metadata": {
        "colab": {
          "base_uri": "https://localhost:8080/"
        },
        "id": "4lClh8S1D7LR",
        "outputId": "7704e279-3b18-47fc-ff73-7bc0d2207b99"
      },
      "execution_count": null,
      "outputs": [
        {
          "output_type": "stream",
          "name": "stdout",
          "text": [
            "                 id  age  gender icd10_diagnosis dataset_name  days_to_death  \\\n",
            "0      TCGA-OR-A5K0   69       1           C74.0          ACC             -1   \n",
            "1      TCGA-OR-A5KP   45       1           C74.0          ACC             -1   \n",
            "2      TCGA-OR-A5L5   77       1           C74.0          ACC             -1   \n",
            "3      TCGA-OR-A5LB   59       1           C74.0          ACC           1204   \n",
            "4      TCGA-P6-A5OG   45       1           C74.0          ACC            383   \n",
            "...             ...  ...     ...             ...          ...            ...   \n",
            "11153  TCGA-YZ-A980   75       1          C69.30          UVM             -1   \n",
            "11154  TCGA-YZ-A982   79       1          C69.90          UVM             -1   \n",
            "11155  TCGA-YZ-A983   51       1          C69.30          UVM             -1   \n",
            "11156  TCGA-YZ-A984   50       1          C69.30          UVM             -1   \n",
            "11157  TCGA-YZ-A985   41       1          C69.30          UVM             -1   \n",
            "\n",
            "       days_to_recurrence  days_to_surgery  did_radiation_therapy  \n",
            "0                     659               -1                      0  \n",
            "1                    1250             1267                      0  \n",
            "2                      -1               -1                      0  \n",
            "3                     611               -1                      1  \n",
            "4                      11               -1                      0  \n",
            "...                   ...              ...                    ...  \n",
            "11153                1556               -1                      0  \n",
            "11154                  -1               -1                      0  \n",
            "11155                  -1               -1                      0  \n",
            "11156                 916              154                      0  \n",
            "11157                  -1               -1                      0  \n",
            "\n",
            "[11158 rows x 9 columns]\n"
          ]
        }
      ]
    },
    {
      "cell_type": "code",
      "source": [
        "# this cell prints the first 5 rows of the table for 'rnaseq' from tcga\n",
        "rnaseq_table = pd.read_sql_query(\"SELECT * from rnaseq\", connect_tcga)\n",
        "rnaseq_table['data'] = [np.frombuffer(element) for element in rnaseq_table['data']]\n",
        "print(rnaseq_table)"
      ],
      "metadata": {
        "colab": {
          "base_uri": "https://localhost:8080/"
        },
        "id": "uqY5EJdfZ4yx",
        "outputId": "833432d0-136b-4879-dcf8-2935536e59aa"
      },
      "execution_count": null,
      "outputs": [
        {
          "output_type": "stream",
          "name": "stdout",
          "text": [
            "                                 id  \\\n",
            "0      TCGA-OR-A5J1-01A-11R-A29S-07   \n",
            "1      TCGA-OR-A5J2-01A-11R-A29S-07   \n",
            "2      TCGA-OR-A5J3-01A-11R-A29S-07   \n",
            "3      TCGA-OR-A5J5-01A-11R-A29S-07   \n",
            "4      TCGA-OR-A5J6-01A-31R-A29S-07   \n",
            "...                             ...   \n",
            "10441  TCGA-YZ-A980-01A-11R-A405-07   \n",
            "10442  TCGA-YZ-A982-01A-11R-A405-07   \n",
            "10443  TCGA-YZ-A983-01A-11R-A405-07   \n",
            "10444  TCGA-YZ-A984-01A-11R-A405-07   \n",
            "10445  TCGA-YZ-A985-01A-11R-A405-07   \n",
            "\n",
            "                                                    data   clinical_id  \n",
            "0      [1.87585068940037e-309, 1.1711999948023525e+17...  TCGA-OR-A5J1  \n",
            "1      [1.87585068940037e-309, 1.1711999948023525e+17...  TCGA-OR-A5J2  \n",
            "2      [1.87585068940037e-309, 1.1711999948023525e+17...  TCGA-OR-A5J3  \n",
            "3      [1.87585068940037e-309, 1.1711999948023525e+17...  TCGA-OR-A5J5  \n",
            "4      [1.87585068940037e-309, 1.1711999948023525e+17...  TCGA-OR-A5J6  \n",
            "...                                                  ...           ...  \n",
            "10441  [1.87585068940037e-309, 1.1711999948023525e+17...  TCGA-YZ-A980  \n",
            "10442  [1.87585068940037e-309, 1.1711999948023525e+17...  TCGA-YZ-A982  \n",
            "10443  [1.87585068940037e-309, 1.1711999948023525e+17...  TCGA-YZ-A983  \n",
            "10444  [1.87585068940037e-309, 1.1711999948023525e+17...  TCGA-YZ-A984  \n",
            "10445  [1.87585068940037e-309, 1.1711999948023525e+17...  TCGA-YZ-A985  \n",
            "\n",
            "[10446 rows x 3 columns]\n"
          ]
        }
      ]
    },
    {
      "cell_type": "code",
      "source": [
        "# # this cell prints the first 5 rows of the table for 'methylation' from tcga\n",
        "# meth_table = pd.read_sql_query(\"SELECT * from methylation\", connect_tcga)\n",
        "# # meth_table['data'] = [np.frombuffer(i) for i in rnaseq_table['data']]\n",
        "# print(meth_table)"
      ],
      "metadata": {
        "id": "RII33faefrMd"
      },
      "execution_count": null,
      "outputs": []
    },
    {
      "cell_type": "code",
      "source": [
        "# # this cell prints the first 5 rows of the table for 'snp' from tcga\n",
        "# snp_table = pd.read_sql_query(\"SELECT * from snp\", connect_tcga)\n",
        "# # snp_table['data'] = [np.frombuffer(i) for i in rnaseq_table['data']]\n",
        "# print(snp_table)"
      ],
      "metadata": {
        "id": "GE9YIgfPf5Bn"
      },
      "execution_count": null,
      "outputs": []
    },
    {
      "cell_type": "code",
      "source": [
        "# we can see that rnaseq has data corresponding to 10446 patients and that clinical corresponds to 11158 patients\n",
        "# this cell filters out the patients that do not correspond and places the rows in the correct order\n",
        "\n",
        "# first get patient ids that appear in both dataframes\n",
        "common_patients = set(rnaseq_table['clinical_id']).intersection(set(clinical_table['id']))\n",
        "\n",
        "#filter out the patients that do not occur in both dataframes\n",
        "rnaseq_table_filtered = rnaseq_table[rnaseq_table['clinical_id'].isin(common_patients)].copy()\n",
        "clinical_table_filtered = clinical_table[clinical_table['id'].isin(common_patients)].copy()\n",
        "\n",
        "# remove duplicates from both dataframes\n",
        "rnaseq_table_filtered.drop_duplicates(subset='clinical_id', keep='first', inplace=True)\n",
        "clinical_table_filtered.drop_duplicates(subset='id', keep='first', inplace=True)\n",
        "\n",
        "#sort data frames so that rows correspond to each other\n",
        "rnaseq_table_filtered.sort_values(by=['clinical_id'], inplace=True)\n",
        "clinical_table_filtered.sort_values(by=['id'], inplace=True)\n",
        "\n",
        "# print to check length of dataframes\n",
        "print(rnaseq_table_filtered)\n",
        "print(clinical_table_filtered)"
      ],
      "metadata": {
        "colab": {
          "base_uri": "https://localhost:8080/"
        },
        "id": "onOfXZKcUxxl",
        "outputId": "1ed1d98c-f666-487f-c989-829cbda47a62"
      },
      "execution_count": null,
      "outputs": [
        {
          "output_type": "stream",
          "name": "stdout",
          "text": [
            "                                 id  \\\n",
            "2749   TCGA-02-0047-01A-01R-1849-01   \n",
            "2750   TCGA-02-0055-01A-01R-1849-01   \n",
            "2751   TCGA-02-2483-01A-01R-1849-01   \n",
            "2752   TCGA-02-2485-01A-01R-1849-01   \n",
            "2753   TCGA-02-2486-01A-01R-1849-01   \n",
            "...                             ...   \n",
            "5629   TCGA-ZS-A9CF-01A-11R-A38B-07   \n",
            "5631   TCGA-ZS-A9CG-01A-11R-A37K-07   \n",
            "10107  TCGA-ZT-A8OM-01A-11R-A42S-07   \n",
            "2070   TCGA-ZU-A8S4-11A-11R-A41I-07   \n",
            "2026   TCGA-ZX-AA5X-01A-11R-A42T-07   \n",
            "\n",
            "                                                    data   clinical_id  \n",
            "2749   [1.87585068940037e-309, 1.1711999948023525e+17...  TCGA-02-0047  \n",
            "2750   [1.87585068940037e-309, 1.1711999948023525e+17...  TCGA-02-0055  \n",
            "2751   [1.87585068940037e-309, 1.1711999948023525e+17...  TCGA-02-2483  \n",
            "2752   [1.87585068940037e-309, 1.1711999948023525e+17...  TCGA-02-2485  \n",
            "2753   [1.87585068940037e-309, 1.1711999948023525e+17...  TCGA-02-2486  \n",
            "...                                                  ...           ...  \n",
            "5629   [1.87585068940037e-309, 1.1711999948023525e+17...  TCGA-ZS-A9CF  \n",
            "5631   [1.87585068940037e-309, 1.1711999948023525e+17...  TCGA-ZS-A9CG  \n",
            "10107  [1.87585068940037e-309, 1.1711999948023525e+17...  TCGA-ZT-A8OM  \n",
            "2070   [1.87585068940037e-309, 1.1711999948023525e+17...  TCGA-ZU-A8S4  \n",
            "2026   [1.87585068940037e-309, 1.1711999948023525e+17...  TCGA-ZX-AA5X  \n",
            "\n",
            "[9659 rows x 3 columns]\n",
            "                 id  age  gender icd10_diagnosis dataset_name  days_to_death  \\\n",
            "3077   TCGA-02-0047   78       1           C71.9          GBM            448   \n",
            "3082   TCGA-02-0055   62       1           C71.9          GBM             76   \n",
            "3142   TCGA-02-2483   43       1           C71.9          GBM             -1   \n",
            "3143   TCGA-02-2485   53       1           C71.9          GBM             -1   \n",
            "3144   TCGA-02-2486   64       1           C71.9          GBM             -1   \n",
            "...             ...  ...     ...             ...          ...            ...   \n",
            "5969   TCGA-ZS-A9CF   64       1           C22.0         LIHC             -1   \n",
            "5970   TCGA-ZS-A9CG   55       1           C22.0         LIHC             -1   \n",
            "10472  TCGA-ZT-A8OM   73       1           C76.1         THYM             -1   \n",
            "1952   TCGA-ZU-A8S4   52       1           C22.1         CHOL             98   \n",
            "1907   TCGA-ZX-AA5X   64       1           C53.9         CESC             -1   \n",
            "\n",
            "       days_to_recurrence  days_to_surgery  did_radiation_therapy  \n",
            "3077                   57               -1                      1  \n",
            "3082                    6               -1                      1  \n",
            "3142                   -1               -1                      1  \n",
            "3143                  186               -1                      1  \n",
            "3144                   -1               -1                      1  \n",
            "...                   ...              ...                    ...  \n",
            "5969                  636              700                      0  \n",
            "5970                   -1               -1                      0  \n",
            "10472                  -1               -1                      0  \n",
            "1952                   72               -1                      0  \n",
            "1907                   -1               -1                      0  \n",
            "\n",
            "[9659 rows x 9 columns]\n"
          ]
        }
      ]
    },
    {
      "cell_type": "code",
      "source": [
        "# # make it all a tensor\n",
        "# rnaseq_list = rnaseq_table_filtered['data'].tolist()\n",
        "# rnaseq_tensor_untouched = torch.tensor(rnaseq_list)\n",
        "\n",
        "# # create tensors of the treatment and of recurrence, all values in these tensors must be boolean\n",
        "# treatment_list_untouched = []\n",
        "# medication = np.ones(len(clinical_table_filtered)).tolist()\n",
        "# treatment_list_untouched.append(medication)\n",
        "# treatment_list_untouched.append(clinical_table_filtered['did_radiation_therapy'].tolist())\n",
        "# treatment_list_untouched.append(clinical_table_filtered['days_to_surgery'].tolist())\n",
        "# recurrence_tensor_untouched = torch.tensor(clinical_table_filtered['days_to_recurrence'].tolist())\n",
        "# treatment_tensor_untouched = torch.transpose(torch.tensor(treatment_list_untouched), 0, 1)\n",
        "# print(f\"rnaseq tensor size is: {rnaseq_tensor.size()} \\nTreatment tensor untouched size is: {treatment_tensor_untouched.size()} \\nRecurrence tensor untouched size is: {recurrence_tensor_untouched.size()}\")"
      ],
      "metadata": {
        "id": "9adbxljasuqH"
      },
      "execution_count": null,
      "outputs": []
    },
    {
      "cell_type": "code",
      "source": [
        "# print(rnaseq_tensor_untouched)\n",
        "# print(treatment_tensor_untouched)\n",
        "# print(recurrence_tensor_untouched)"
      ],
      "metadata": {
        "id": "4fTUuy8_0z1_"
      },
      "execution_count": null,
      "outputs": []
    },
    {
      "cell_type": "code",
      "source": [
        "# set all values in clinical_table_filtered to 0 or 1\n",
        "surgery_list = clinical_table_filtered['days_to_surgery'].tolist()\n",
        "for i in range(len(surgery_list)):\n",
        "  if surgery_list[i] >= 0:\n",
        "    surgery_list[i] = 1\n",
        "  else:\n",
        "    surgery_list[i] = 0\n",
        "\n",
        "recurrence_list = clinical_table_filtered['days_to_recurrence'].tolist()\n",
        "for i in range(len(recurrence_list)):\n",
        "  if recurrence_list[i] >= 0:\n",
        "    recurrence_list[i] = 1\n",
        "  else:\n",
        "    recurrence_list[i] = 0\n",
        "\n",
        "# make rnaseq_list a tensor\n",
        "rnaseq_list = rnaseq_table_filtered['data'].tolist()\n",
        "rnaseq_tensor = torch.tensor(rnaseq_list)\n",
        "\n",
        "# create tensors of the treatment and of the recurrence, all values in these tensors must be boolean\n",
        "treatment_list = []\n",
        "medication = np.ones(len(clinical_table_filtered)).tolist()\n",
        "treatment_list.append(medication)\n",
        "treatment_list.append(clinical_table_filtered['did_radiation_therapy'].tolist())\n",
        "treatment_list.append(surgery_list)\n",
        "recurrence_tensor = torch.tensor(recurrence_list)\n",
        "treatment_tensor = torch.transpose(torch.tensor(treatment_list), 0, 1)\n",
        "print(f\"rnaseq tensor size is: {rnaseq_tensor.size()} \\nTreatment tensor size is: {treatment_tensor.size()} \\nRecurrence tensor size is: {recurrence_tensor.size()}\")"
      ],
      "metadata": {
        "colab": {
          "base_uri": "https://localhost:8080/"
        },
        "id": "KIGCA0dmTbh2",
        "outputId": "29303517-0e81-4c8e-9eae-77cc52cd7962"
      },
      "execution_count": null,
      "outputs": [
        {
          "output_type": "stream",
          "name": "stdout",
          "text": [
            "rnaseq tensor size is: torch.Size([9659, 20547]) \n",
            "Treatment tensor size is: torch.Size([9659, 3]) \n",
            "Recurrence tensor size is: torch.Size([9659])\n"
          ]
        },
        {
          "output_type": "stream",
          "name": "stderr",
          "text": [
            "<ipython-input-14-00b544b1ad4a>:18: UserWarning: Creating a tensor from a list of numpy.ndarrays is extremely slow. Please consider converting the list to a single numpy.ndarray with numpy.array() before converting to a tensor. (Triggered internally at ../torch/csrc/utils/tensor_new.cpp:245.)\n",
            "  rnaseq_tensor = torch.tensor(rnaseq_list)\n"
          ]
        }
      ]
    },
    {
      "cell_type": "code",
      "source": [
        "# # some of the features in rna_seq tensor have 'nan' or 'inf', this needs to be filtered out\n",
        "# nan_mask = torch.isnan(rnaseq_tensor)\n",
        "# inf_mask = torch.isinf(rnaseq_tensor)\n",
        "\n",
        "# # combine the indices of NaN and inf values\n",
        "# nan_or_inf_mask = nan_mask | inf_mask\n",
        "# nan_or_inf_indices = torch.nonzero(nan_or_inf_mask)\n",
        "\n",
        "# # filter out the elements with NaN or inf values\n",
        "# rnaseq_tensor = rnaseq_tensor[~nan_or_inf_mask]\n",
        "\n",
        "\n",
        "# standardise the rna_seq tensor\n",
        "mean = torch.mean(rnaseq_tensor, axis=0)\n",
        "std = torch.std(rnaseq_tensor, axis=0)\n",
        "rnaseq_tensor = (rnaseq_tensor - mean)/std\n",
        "\n",
        "print(rnaseq_tensor)\n",
        "\n",
        "# # filter out inf and nan values\n",
        "flattened_rnaseq_tensor = rnaseq_tensor.reshape(-1)\n",
        "finite_indices = torch.isfinite(flattened_rnaseq_tensor)\n",
        "\n",
        "flattened_rnaseq_tensor_filtered = flattened_rnaseq_tensor[finite_indices]\n",
        "rnaseq_tensor = flattened_rnaseq_tensor_filtered.reshape(len(rnaseq_tensor), -1)"
      ],
      "metadata": {
        "colab": {
          "base_uri": "https://localhost:8080/"
        },
        "id": "l7vsIEfr7z1a",
        "outputId": "b36d9930-e63b-4dbd-f80d-8c97ef58910b"
      },
      "execution_count": null,
      "outputs": [
        {
          "output_type": "stream",
          "name": "stdout",
          "text": [
            "tensor([[    nan,     nan,     inf,  ..., -0.4644, -0.3369, -0.1502],\n",
            "        [    nan,     nan,     inf,  ..., -0.1314, -0.3255, -0.1502],\n",
            "        [    nan,     nan,     inf,  ..., -0.1683,  0.4678, -0.1502],\n",
            "        ...,\n",
            "        [    nan,     nan,     inf,  ..., -1.3342,  0.2173, -0.1502],\n",
            "        [    nan,     nan,     inf,  ..., -0.7794, -0.3240,  4.7742],\n",
            "        [    nan,     nan,     inf,  ...,  0.2653, -0.0477, -0.1502]],\n",
            "       dtype=torch.float64)\n"
          ]
        }
      ]
    },
    {
      "cell_type": "code",
      "source": [
        "print(rnaseq_tensor)"
      ],
      "metadata": {
        "colab": {
          "base_uri": "https://localhost:8080/"
        },
        "id": "lUA5NB2cKFIn",
        "outputId": "beeea4ec-e5ad-41db-d0ce-4677eff19f25"
      },
      "execution_count": null,
      "outputs": [
        {
          "output_type": "stream",
          "name": "stdout",
          "text": [
            "tensor([[-0.1602, -0.6326, -0.3969,  ..., -0.4644, -0.3369, -0.1502],\n",
            "        [-0.1602, -0.8562,  0.1784,  ..., -0.1314, -0.3255, -0.1502],\n",
            "        [-0.1602, -0.6418,  0.0652,  ..., -0.1683,  0.4678, -0.1502],\n",
            "        ...,\n",
            "        [-0.1602, -0.6490, -0.6984,  ..., -1.3342,  0.2173, -0.1502],\n",
            "        [-0.1602, -0.7282, -0.7357,  ..., -0.7794, -0.3240,  4.7742],\n",
            "        [-0.1602,  0.0053,  1.0942,  ...,  0.2653, -0.0477, -0.1502]],\n",
            "       dtype=torch.float64)\n"
          ]
        }
      ]
    },
    {
      "cell_type": "code",
      "source": [
        "# check if the treatment tensor has the right size and contains only booleans\n",
        "print(treatment_tensor[0])"
      ],
      "metadata": {
        "colab": {
          "base_uri": "https://localhost:8080/"
        },
        "id": "kR04PI9fpIrG",
        "outputId": "c7dd570d-e2ce-4870-d855-a310b335d6b1"
      },
      "execution_count": null,
      "outputs": [
        {
          "output_type": "stream",
          "name": "stdout",
          "text": [
            "tensor([1., 1., 0.])\n"
          ]
        }
      ]
    },
    {
      "cell_type": "code",
      "source": [
        "# here we create a new list containing values 0, 1, 2 or 3\n",
        "# 0 corresponds to only medication being used alone\n",
        "# 1 corresponds to medication and radiotherapy being used together\n",
        "# 2 corresponds to medication and surgery being used together\n",
        "# 3 corresponds to all 3 being used together\n",
        "treatment_method = []\n",
        "for i in range(len(treatment_tensor)):\n",
        "  if torch.allclose(treatment_tensor[i], torch.tensor([1., 0., 0.])):\n",
        "    treatment_method.append(0)\n",
        "  elif torch.allclose(treatment_tensor[i], torch.tensor([1., 1., 0.])):\n",
        "    treatment_method.append(1)\n",
        "  elif torch.allclose(treatment_tensor[i], torch.tensor([1., 0., 1.])):\n",
        "    treatment_method.append(2)\n",
        "  else:\n",
        "    treatment_method.append(3)\n",
        "\n",
        "treatment_method_tensor = torch.reshape(torch.tensor(treatment_method), (len(treatment_method), 1))"
      ],
      "metadata": {
        "id": "Kr-892DNmv3t"
      },
      "execution_count": null,
      "outputs": []
    },
    {
      "cell_type": "code",
      "source": [
        "# quick check\n",
        "print(f\"rnaseq_tensor : \\n{rnaseq_tensor}\")\n",
        "\n",
        "print(f\"treatment_method_tensor : \\n{treatment_method_tensor}\")\n",
        "\n",
        "print(f\"recurrence_tensor : \\n{recurrence_tensor}\")"
      ],
      "metadata": {
        "colab": {
          "base_uri": "https://localhost:8080/"
        },
        "id": "1gdb8ZvcqSNH",
        "outputId": "27420076-d730-4b4b-d194-4151940d0856"
      },
      "execution_count": null,
      "outputs": [
        {
          "output_type": "stream",
          "name": "stdout",
          "text": [
            "rnaseq_tensor : \n",
            "tensor([[-0.1602, -0.6326, -0.3969,  ..., -0.4644, -0.3369, -0.1502],\n",
            "        [-0.1602, -0.8562,  0.1784,  ..., -0.1314, -0.3255, -0.1502],\n",
            "        [-0.1602, -0.6418,  0.0652,  ..., -0.1683,  0.4678, -0.1502],\n",
            "        ...,\n",
            "        [-0.1602, -0.6490, -0.6984,  ..., -1.3342,  0.2173, -0.1502],\n",
            "        [-0.1602, -0.7282, -0.7357,  ..., -0.7794, -0.3240,  4.7742],\n",
            "        [-0.1602,  0.0053,  1.0942,  ...,  0.2653, -0.0477, -0.1502]],\n",
            "       dtype=torch.float64)\n",
            "treatment_method_tensor : \n",
            "tensor([[1],\n",
            "        [1],\n",
            "        [1],\n",
            "        ...,\n",
            "        [0],\n",
            "        [0],\n",
            "        [0]])\n",
            "recurrence_tensor : \n",
            "tensor([1, 1, 0,  ..., 0, 1, 0])\n"
          ]
        }
      ]
    },
    {
      "cell_type": "code",
      "source": [
        "# it might be interesting to check the treatment method distribution\n",
        "only_med = 0\n",
        "med_and_rad = 0\n",
        "med_and_surg = 0\n",
        "all_methods = 0\n",
        "for i in range(len(treatment_method_tensor)):\n",
        "  if torch.allclose(treatment_method_tensor[i], torch.tensor([0])):\n",
        "    only_med += 1\n",
        "  elif torch.allclose(treatment_method_tensor[i], torch.tensor([1])):\n",
        "    med_and_rad += 1\n",
        "  elif torch.allclose(treatment_method_tensor[i], torch.tensor([2])):\n",
        "    med_and_surg += 1\n",
        "  else:\n",
        "    all_methods += 1\n",
        "\n",
        "print(f\"Only medication = {only_med} \\nMedication and radiotherapy together = {med_and_rad} \\nMedication and surgery together = {med_and_surg} \\nAll together = {all_methods}\")\n",
        "\n",
        "# generate a bar chart to show this distribution\n",
        "import matplotlib.pyplot as plt\n",
        "\n",
        "# Sample data\n",
        "methods = ['Medication', 'Med and Radio', 'Med and Surg', 'All Three']\n",
        "counts = [only_med, med_and_rad, med_and_surg, all_methods]\n",
        "\n",
        "# Create bar chart\n",
        "plt.bar(methods, counts)\n",
        "\n",
        "# Add title and labels\n",
        "plt.title('Distribution of Treatment Methods')\n",
        "plt.xlabel('Methods')\n",
        "plt.ylabel('Counts')\n",
        "\n",
        "# Display the chart\n",
        "plt.show()"
      ],
      "metadata": {
        "colab": {
          "base_uri": "https://localhost:8080/",
          "height": 541
        },
        "id": "7YoWTXZtsaIv",
        "outputId": "908d1ccb-a867-4fb4-f8d3-3364be0cc037"
      },
      "execution_count": null,
      "outputs": [
        {
          "output_type": "stream",
          "name": "stdout",
          "text": [
            "Only medication = 6341 \n",
            "Medication and radiotherapy together = 2776 \n",
            "Medication and surgery together = 272 \n",
            "All together = 270\n"
          ]
        },
        {
          "output_type": "display_data",
          "data": {
            "text/plain": [
              "<Figure size 640x480 with 1 Axes>"
            ],
            "image/png": "[encoded data removed]"
          },
          "metadata": {}
        }
      ]
    },
    {
      "cell_type": "code",
      "source": [
        "# create class so that you can iterate over the dataloader\n",
        "from torch.utils.data import Dataset, DataLoader\n",
        "\n",
        "class CancerRecurrenceDataset(Dataset):\n",
        "    def __init__(self, input_data, treatment_data, target_data):\n",
        "        self.input_data = input_data\n",
        "        self.treatment_data = treatment_data\n",
        "        self.target_data = target_data\n",
        "\n",
        "    def __len__(self):\n",
        "        return len(self.target_data)\n",
        "\n",
        "    def __getitem__(self, idx):\n",
        "        input_data = self.input_data[idx]\n",
        "        treatment_data = self.treatment_data[idx]\n",
        "        target_data = self.target_data[idx]\n",
        "        return input_data, treatment_data, target_data"
      ],
      "metadata": {
        "id": "2BnqXUIh185M"
      },
      "execution_count": null,
      "outputs": []
    },
    {
      "cell_type": "code",
      "source": [
        "# CancerRecurrenceNetwork architecture\n",
        "# all data goes through the same base layers and then (depending on which treatment method is applied) follows a certain treatment layer\n",
        "class CRNet(nn.Module):\n",
        "    def __init__(self, input_dim, hidden_dim, num_treatments):\n",
        "        super(CRNet, self).__init__()\n",
        "        \n",
        "        self.input_dim = input_dim\n",
        "        self.num_treatments = num_treatments\n",
        "        self.hidden_dim = hidden_dim\n",
        "\n",
        "        # Base Layers\n",
        "        self.base_layers = nn.Sequential(\n",
        "            nn.Linear(input_dim, hidden_dim),\n",
        "            nn.ReLU(),\n",
        "            nn.Linear(hidden_dim, hidden_dim),\n",
        "            nn.ReLU(),\n",
        "            nn.Linear(hidden_dim, hidden_dim),\n",
        "            nn.ReLU()\n",
        "        )\n",
        "        \n",
        "        # Treatment Layers\n",
        "        self.treatment_layers = nn.ModuleList([\n",
        "            nn.Sequential(\n",
        "                nn.Linear(hidden_dim, hidden_dim),\n",
        "                nn.ReLU(),\n",
        "                nn.Linear(hidden_dim, hidden_dim),\n",
        "                nn.ReLU(),\n",
        "                nn.Linear(hidden_dim, hidden_dim),\n",
        "                nn.ReLU(),\n",
        "                nn.Linear(hidden_dim, 1)\n",
        "            ) for _ in range(self.num_treatments)\n",
        "        ])\n",
        "\n",
        "        # Softmax Activation\n",
        "        self.softmax = nn.Softmax(dim=1)\n",
        "        self.relu = nn.ReLU()\n",
        "\n",
        "    def forward(self, x, treatment_tensor):\n",
        "        # Base Layers\n",
        "        x = self.base_layers(x)\n",
        "\n",
        "        # Treatment Layers\n",
        "        outputs = []\n",
        "        for i in range(self.num_treatments):\n",
        "            if i == 0 and (treatment_tensor == 0).sum() > 0:\n",
        "                # Only Medication\n",
        "                indices = torch.where(treatment_tensor == 0)[0]\n",
        "                output = self.treatment_layers[i](x[indices])\n",
        "                outputs.append(output)\n",
        "                \n",
        "            elif i == 1 and (treatment_tensor == 1).sum() > 0:\n",
        "                # Medication and Radiotherapy\n",
        "                indices = torch.where(treatment_tensor == 1)[0]\n",
        "                output = self.treatment_layers[i](x[indices])\n",
        "                outputs.append(output)\n",
        "                \n",
        "            elif i == 2 and (treatment_tensor == 2).sum() > 0:\n",
        "                # Medication and Surgery\n",
        "                indices = torch.where(treatment_tensor == 2)[0]\n",
        "                output = self.treatment_layers[i](x[indices])\n",
        "                outputs.append(output)\n",
        "                \n",
        "            elif i == 3 and (treatment_tensor == 3).sum() > 0:\n",
        "                # Medication, Radiotherapy and Surgery\n",
        "                indices = torch.where(treatment_tensor == 3)[0]\n",
        "                output = self.treatment_layers[i](x[indices])\n",
        "                outputs.append(output)\n",
        "        \n",
        "        # Combine outputs\n",
        "\n",
        "        outputs = torch.cat(outputs, dim=0).flatten()\n",
        "\n",
        "        return outputs\n"
      ],
      "metadata": {
        "id": "I6nJFcxLm2pB"
      },
      "execution_count": null,
      "outputs": []
    },
    {
      "cell_type": "code",
      "source": [
        "# Set device to use\n",
        "device = torch.device(\"cuda\" if torch.cuda.is_available() else \"cpu\")"
      ],
      "metadata": {
        "id": "y2NOh1Gd6cO4"
      },
      "execution_count": null,
      "outputs": []
    },
    {
      "cell_type": "code",
      "source": [
        "# Set hyperparameters\n",
        "input_dim = len(rnaseq_tensor[0])\n",
        "hidden_dim = 48\n",
        "num_treatments = 4\n",
        "batch_size = 32\n",
        "learning_rate = 0.001\n",
        "num_epochs = 100"
      ],
      "metadata": {
        "id": "S8h9Snym6iAG"
      },
      "execution_count": null,
      "outputs": []
    },
    {
      "cell_type": "code",
      "source": [
        "# dataset and dataloader\n",
        "input_data = rnaseq_tensor\n",
        "treatment_data = treatment_method_tensor\n",
        "target_data = recurrence_tensor"
      ],
      "metadata": {
        "id": "5l18kEHg-Dpe"
      },
      "execution_count": null,
      "outputs": []
    },
    {
      "cell_type": "code",
      "source": [
        "# split data into training, validation and test set\n",
        "from sklearn.model_selection import train_test_split\n",
        "\n",
        "# create train validation and test split\n",
        "train_idx, val_test_idx = train_test_split(range(len(input_data)), test_size=0.37, random_state=42)\n",
        "val_idx, test_idx = train_test_split(val_test_idx, test_size=0.21, random_state=42)\n",
        "\n",
        "# split  data tensors and set to correct dtype\n",
        "input_train = input_data[train_idx].type(torch.float32)\n",
        "target_train = target_data[train_idx].type(torch.float32)\n",
        "treatment_train = treatment_data[train_idx].type(torch.float32)\n",
        "\n",
        "input_val = input_data[val_idx].type(torch.float32)\n",
        "target_val = target_data[val_idx].type(torch.float32)\n",
        "treatment_val = treatment_data[val_idx].type(torch.float32)\n",
        "\n",
        "input_test = input_data[test_idx].type(torch.float32)\n",
        "target_test = target_data[test_idx].type(torch.float32)\n",
        "treatment_test = treatment_data[test_idx].type(torch.float32)\n"
      ],
      "metadata": {
        "id": "5sZrxC78zRDY"
      },
      "execution_count": null,
      "outputs": []
    },
    {
      "cell_type": "code",
      "source": [
        "# generate dataloaders from the split datasets\n",
        "train_dataset = CancerRecurrenceDataset(input_train, treatment_train, target_train)\n",
        "validation_dataset = CancerRecurrenceDataset(input_val, treatment_val, target_val)\n",
        "test_dataset = CancerRecurrenceDataset(input_test, treatment_test, target_test)\n",
        "\n",
        "train_dataloader = DataLoader(train_dataset, batch_size=batch_size)\n",
        "validation_dataloader = DataLoader(validation_dataset, batch_size=batch_size)\n",
        "test_dataloader = DataLoader(test_dataset, batch_size=batch_size)"
      ],
      "metadata": {
        "id": "Hz0XAPheF3sE"
      },
      "execution_count": null,
      "outputs": []
    },
    {
      "cell_type": "code",
      "source": [
        "# create model and move to device\n",
        "model = CRNet(input_dim, hidden_dim, num_treatments).to(device)"
      ],
      "metadata": {
        "id": "-3DVl-oR-P_a"
      },
      "execution_count": null,
      "outputs": []
    },
    {
      "cell_type": "code",
      "source": [
        "# loss and updater\n",
        "criterion = nn.MSELoss()\n",
        "# nn.CrossEntropyLoss()\n",
        "optimizer = torch.optim.Adam(model.parameters(), lr=learning_rate)"
      ],
      "metadata": {
        "id": "SS13LJ3z-iWj"
      },
      "execution_count": null,
      "outputs": []
    },
    {
      "cell_type": "code",
      "source": [
        "# function that trains and validates the model\n",
        "def train_and_validate_model(model, train_dataloader, val_dataloader, test_dataloader, optimizer, criterion, device, num_epochs):\n",
        "    \n",
        "    # these two are needed for early stopping\n",
        "    best_valid_loss = float('inf')\n",
        "    epochs_since_improvement = 0\n",
        "\n",
        "    # create empty lists to save the losses and accuracies\n",
        "    train_losses = []\n",
        "    train_accs = []\n",
        "    valid_losses = []\n",
        "    valid_accs = []\n",
        "\n",
        "    # loop over number of epochs, in here the training and validation is done\n",
        "    for epoch in range(num_epochs):\n",
        "        running_loss = 0.0\n",
        "        running_corrects = 0\n",
        "\n",
        "        # train the model on the training set\n",
        "        model.train()\n",
        "        for inputs, treatments, labels in train_dataloader:\n",
        "            inputs = inputs.to(device).float()\n",
        "            treatments = treatments.to(device).float()\n",
        "            labels = labels.to(device).float()\n",
        "\n",
        "            optimizer.zero_grad()\n",
        "\n",
        "            outputs = model.forward(inputs, treatments)\n",
        "            batch_size = inputs.size(0)\n",
        "\n",
        "            loss = criterion(outputs, labels)\n",
        "\n",
        "            loss.backward()\n",
        "            optimizer.step()\n",
        "\n",
        "            running_loss += loss.item() * batch_size\n",
        "            running_corrects += torch.sum(torch.round(torch.sigmoid(outputs)) == labels)\n",
        "\n",
        "        epoch_loss = running_loss / len(train_dataloader.dataset)\n",
        "        epoch_acc = running_corrects.double() / len(train_dataloader.dataset)\n",
        "        train_losses.append(epoch_loss)\n",
        "        train_accs.append(epoch_acc)\n",
        "\n",
        "        # evaluate the model on the validation set\n",
        "        model.eval()\n",
        "\n",
        "        with torch.no_grad():\n",
        "          running_val_loss = 0.0\n",
        "          running_val_corrects = 0\n",
        "\n",
        "          for inputs, treatments, labels in val_dataloader:\n",
        "              inputs = inputs.to(device).float()\n",
        "              treatments = treatments.to(device).float()\n",
        "              labels = labels.to(device).float()\n",
        "\n",
        "              outputs = model.forward(inputs, treatments)\n",
        "              batch_size = inputs.size(0)\n",
        "\n",
        "              loss = criterion(outputs, labels)\n",
        "\n",
        "              running_val_loss += loss.item() * batch_size\n",
        "              running_val_corrects += torch.sum(torch.round(torch.sigmoid(outputs)) == labels)\n",
        "\n",
        "          epoch_val_loss = running_val_loss / len(val_dataloader.dataset)\n",
        "          epoch_val_acc = running_val_corrects.double() / len(val_dataloader.dataset)\n",
        "          valid_losses.append(epoch_val_loss)\n",
        "          valid_accs.append(epoch_val_acc)\n",
        "\n",
        "          # implement some early stopping after epoch 3\n",
        "          # check if validation loss has decreased, if not increment epochs_since_improvement\n",
        "          if epoch >= 3:  \n",
        "            if epoch_val_loss < best_valid_loss:\n",
        "                best_valid_loss = epoch_val_loss\n",
        "                epochs_since_improvement = 0\n",
        "                # save the model at this epoch\n",
        "                torch.save(model.state_dict(), 'best_model.pt')\n",
        "            else:\n",
        "                epochs_since_improvement += 1\n",
        "\n",
        "            # stop training if validation loss has not improved for 6 epochs\n",
        "            if epochs_since_improvement == 6:\n",
        "                print(\"Stopping training, validation loss has not improved for 6 epochs.\")\n",
        "                break\n",
        "\n",
        "          print(f\"Epoch {epoch+1}/{num_epochs}:\")\n",
        "          print(f\"  Train Loss: {epoch_loss:.4f} Acc: {epoch_acc:.4f}\")\n",
        "          print(f\"  Val Loss: {epoch_val_loss:.4f} Acc: {epoch_val_acc:.4f}\")\n",
        "\n",
        "    # plot the development of the losses and accuracies during training and validation\n",
        "    plt.figure(figsize=(10, 5))\n",
        "    plt.subplot(1, 2, 1)\n",
        "    plt.plot(train_losses, label='Train Loss')\n",
        "    plt.plot(valid_losses, label='Valid Loss')\n",
        "    plt.legend()\n",
        "    plt.title('Training and Validation Loss')\n",
        "\n",
        "    plt.subplot(1, 2, 2)\n",
        "    plt.plot(train_accs, label='Train Acc')\n",
        "    plt.plot(valid_accs, label='Valid Acc')\n",
        "    plt.legend()\n",
        "    plt.title('Training and Validation Accuracy')\n",
        "    plt.show()\n",
        "    \n",
        "    return model\n"
      ],
      "metadata": {
        "id": "K34ZiyZmGdti"
      },
      "execution_count": null,
      "outputs": []
    },
    {
      "cell_type": "code",
      "source": [
        "import sklearn\n",
        "\n",
        "# Initialise training\n",
        "fitted_model = train_and_validate_model(model, train_dataloader, validation_dataloader, test_dataloader, optimizer, criterion, device, num_epochs)\n",
        "\n",
        "# perform predictions on the test set\n",
        "test_pred = fitted_model.forward(input_test, treatment_test)\n",
        "\n",
        "# convert to numpy so sklearn metrics can be used\n",
        "test_pred = test_pred.detach().numpy()\n",
        "\n",
        "# these are the performance metrics\n",
        "auc = sklearn.metrics.roc_auc_score(target_test, test_pred)\n",
        "ap = sklearn.metrics.average_precision_score(target_test, test_pred)\n",
        "f1 = sklearn.metrics.f1_score(target_test, np.round(test_pred), average='weighted')\n",
        "precision = sklearn.metrics.precision_score(target_test, np.round(test_pred), average='weighted')\n",
        "recall = sklearn.metrics.recall_score(target_test, np.round(test_pred), average='weighted')\n",
        "\n",
        "print(f'auc: {auc}')    \n",
        "print(f'ap: {ap}')    \n",
        "print(f'f1: {f1}')    \n",
        "print(f'precision: {precision}')   \n",
        "print(f'recall: {recall}')     "
      ],
      "metadata": {
        "id": "72_mjK3xwm_z",
        "colab": {
          "base_uri": "https://localhost:8080/",
          "height": 1000
        },
        "outputId": "dac9983d-9436-45f7-e3e9-ebea122ed174"
      },
      "execution_count": null,
      "outputs": [
        {
          "output_type": "stream",
          "name": "stdout",
          "text": [
            "Epoch 1/100:\n",
            "  Train Loss: 0.0372 Acc: 0.5025\n",
            "  Val Loss: 0.3149 Acc: 0.3128\n",
            "Epoch 2/100:\n",
            "  Train Loss: 0.0364 Acc: 0.5196\n",
            "  Val Loss: 0.3020 Acc: 0.3309\n",
            "Epoch 3/100:\n",
            "  Train Loss: 0.0310 Acc: 0.5234\n",
            "  Val Loss: 0.3306 Acc: 0.3440\n",
            "Epoch 4/100:\n",
            "  Train Loss: 0.0339 Acc: 0.4978\n",
            "  Val Loss: 0.3235 Acc: 0.3305\n",
            "Epoch 5/100:\n",
            "  Train Loss: 0.0315 Acc: 0.5423\n",
            "  Val Loss: 0.3201 Acc: 0.4024\n",
            "Epoch 6/100:\n",
            "  Train Loss: 0.0273 Acc: 0.4925\n",
            "  Val Loss: 0.3364 Acc: 0.3117\n",
            "Epoch 7/100:\n",
            "  Train Loss: 0.0285 Acc: 0.5014\n",
            "  Val Loss: 0.3459 Acc: 0.2930\n",
            "Epoch 8/100:\n",
            "  Train Loss: 0.0316 Acc: 0.4993\n",
            "  Val Loss: 0.3559 Acc: 0.3964\n",
            "Epoch 9/100:\n",
            "  Train Loss: 0.0251 Acc: 0.5655\n",
            "  Val Loss: 0.3241 Acc: 0.3642\n",
            "Epoch 10/100:\n",
            "  Train Loss: 0.0248 Acc: 0.5336\n",
            "  Val Loss: 0.3373 Acc: 0.3057\n",
            "Stopping training, validation loss has not improved for 6 epochs.\n"
          ]
        },
        {
          "output_type": "display_data",
          "data": {
            "text/plain": [
              "<Figure size 1000x500 with 2 Axes>"
            ],
            "image/png": "[encoded data removed]"
          },
          "metadata": {}
        },
        {
          "output_type": "stream",
          "name": "stdout",
          "text": [
            "auc: 0.5046387937415013\n",
            "ap: 0.2993215549315278\n",
            "f1: 0.5982817729759423\n",
            "precision: 0.5869473080811424\n",
            "recall: 0.6138482023968043\n"
          ]
        }
      ]
    },
    {
      "cell_type": "code",
      "source": [],
      "metadata": {
        "id": "ybd0BWFYy-r_"
      },
      "execution_count": null,
      "outputs": []
    }
  ]
}